{
 "cells": [
  {
   "cell_type": "code",
   "execution_count": 29,
   "id": "9cbb35c5-2e2f-41b5-8fe2-eef8598597b7",
   "metadata": {},
   "outputs": [],
   "source": [
    "using Oceananigans\n",
    "using Oceananigans.Units: minute, minutes, hours\n",
    "using Oceanostics\n",
    "grid = RectilinearGrid(GPU();\n",
    "                       size=(32, 32, 32),\n",
    "                       extent=(128, 128, 64))\n",
    "\n",
    "using Oceananigans.BuoyancyModels: g_Earth"
   ]
  },
  {
   "cell_type": "code",
   "execution_count": 30,
   "id": "824345a4-ebec-4e0e-91c6-d4c2dc9e8304",
   "metadata": {},
   "outputs": [
    {
     "data": {
      "text/plain": [
       "Callback of TimeStepWizard(cfl=1.0, max_Δt=60.0, min_Δt=0.0) on IterationInterval(10)"
      ]
     },
     "execution_count": 30,
     "metadata": {},
     "output_type": "execute_result"
    }
   ],
   "source": [
    "amplitude = 0.8 # m\n",
    "wavelength = 60  # m\n",
    "wavenumber = 2π / wavelength # m⁻¹\n",
    "frequency = sqrt(g_Earth * wavenumber) # s⁻¹\n",
    "\n",
    "# The vertical scale over which the Stokes drift of a monochromatic surface wave\n",
    "# decays away from the surface is `1/2wavenumber`, or\n",
    "const vertical_scale = wavelength / 4π\n",
    "\n",
    "# Stokes drift velocity at the surface\n",
    "const Uˢ = amplitude^2 * wavenumber * frequency # m s⁻¹\n",
    "uˢ(z) = Uˢ * exp(z / vertical_scale)\n",
    "∂z_uˢ(z, t) = 1 / vertical_scale * Uˢ * exp(z / vertical_scale)\n",
    "Qᵘ = -3.72e-5 # m² s⁻², surface kinematic momentum flux\n",
    "\n",
    "u_boundary_conditions = FieldBoundaryConditions(top = FluxBoundaryCondition(Qᵘ))\n",
    "Qᵇ = 2.307e-8 # m² s⁻³, surface buoyancy flux\n",
    "N² = 1.936e-5 # s⁻², initial and bottom buoyancy gradient\n",
    "\n",
    "b_boundary_conditions = FieldBoundaryConditions(top = FluxBoundaryCondition(Qᵇ),\n",
    "                                                bottom = GradientBoundaryCondition(N²))\n",
    "\n",
    "Qᵇ = 2.307e-8 # m² s⁻³, surface buoyancy flux\n",
    "N² = 1.936e-5 # s⁻², initial and bottom buoyancy gradient\n",
    "                                                \n",
    "b_boundary_conditions = FieldBoundaryConditions(top = FluxBoundaryCondition(Qᵇ),\n",
    "                        bottom = GradientBoundaryCondition(N²))\n",
    "\n",
    "coriolis = FPlane(f=1e-4) # s⁻¹\n",
    "model = NonhydrostaticModel(; grid, coriolis,\n",
    "                            advection = WENO(),\n",
    "                            timestepper = :RungeKutta3,\n",
    "                            tracers = :b,\n",
    "                            buoyancy = BuoyancyTracer(),\n",
    "                            closure = AnisotropicMinimumDissipation(),\n",
    "                            stokes_drift = UniformStokesDrift(∂z_uˢ=∂z_uˢ),\n",
    "                            boundary_conditions = (u=u_boundary_conditions, b=b_boundary_conditions))\n",
    "Ξ(z) = randn() * exp(z / 4)\n",
    "initial_mixed_layer_depth = 33 # m\n",
    "stratification(z) = z < - initial_mixed_layer_depth ? N² * z : N² * (-initial_mixed_layer_depth)\n",
    "\n",
    "bᵢ(x, y, z) = stratification(z) + 1e-1 * Ξ(z) * N² * model.grid.Lz\n",
    "\n",
    "u★ = sqrt(abs(Qᵘ))\n",
    "uᵢ(x, y, z) = u★ * 1e-1 * Ξ(z)\n",
    "wᵢ(x, y, z) = u★ * 1e-1 * Ξ(z)\n",
    "\n",
    "set!(model, u=uᵢ, w=wᵢ, b=bᵢ)\n",
    "simulation = Simulation(model, Δt=45.0, stop_time=4hours)\n",
    "wizard = TimeStepWizard(cfl=1.0, max_change=1.1, max_Δt=1minute)\n",
    "simulation.callbacks[:wizard] = Callback(wizard, IterationInterval(10))\n"
   ]
  },
  {
   "cell_type": "code",
   "execution_count": 31,
   "id": "50d57e14-4831-4933-a5b7-7ab16035aaa4",
   "metadata": {},
   "outputs": [
    {
     "data": {
      "text/plain": [
       "BinaryOperation at (Center, Center, Center)\n",
       "├── grid: 32×32×32 RectilinearGrid{Float64, Periodic, Periodic, Bounded} on GPU with 3×3×3 halo\n",
       "└── tree: \n",
       "    - at (Center, Center, Center)\n",
       "    ├── + at (Center, Center, Center)\n",
       "    │   ├── 32×32×32 Field{Center, Center, Center} on RectilinearGrid on GPU\n",
       "    │   └── 32×32×32 Field{Center, Center, Center} on RectilinearGrid on GPU\n",
       "    └── 32×1×1 Field{Center, Nothing, Nothing} reduced over dims = (2, 3) on RectilinearGrid on GPU"
      ]
     },
     "execution_count": 31,
     "metadata": {},
     "output_type": "execute_result"
    }
   ],
   "source": [
    "u, v, w = model.velocities\n",
    "p = sum(model.pressures)\n",
    "W = Field(Average(w, dims=(2, 3)))\n",
    "P = Field(Average(p, dims=(2, 3)))\n",
    "w_prime = w-W\n",
    "p_prime = p-P"
   ]
  },
  {
   "cell_type": "code",
   "execution_count": 32,
   "id": "ed21d31a-45f0-4966-a3f6-a3ab91d993c1",
   "metadata": {},
   "outputs": [
    {
     "data": {
      "text/plain": [
       "ZPressureRedistribution (generic function with 2 methods)"
      ]
     },
     "execution_count": 32,
     "metadata": {},
     "output_type": "execute_result"
    }
   ],
   "source": [
    "function ZPressureRedistribution(model, w_prime, p_prime)\n",
    "    return ∂z(w_prime*p_prime) # p is the total kinematic pressure (there's no need for ρ₀)\n",
    "end"
   ]
  },
  {
   "cell_type": "code",
   "execution_count": 33,
   "id": "d12e71fa-c208-46f3-a64d-47cc40ce5acb",
   "metadata": {},
   "outputs": [
    {
     "data": {
      "text/plain": [
       "Derivative at (Center, Center, Center)\n",
       "├── grid: 32×32×32 RectilinearGrid{Float64, Periodic, Periodic, Bounded} on GPU with 3×3×3 halo\n",
       "└── tree: \n",
       "    ∂zᶜᶜᶜ at (Center, Center, Center) via identity\n",
       "    └── * at (Center, Center, Face)\n",
       "        ├── - at (Center, Center, Face)\n",
       "        │   ├── 32×32×33 Field{Center, Center, Face} on RectilinearGrid on GPU\n",
       "        │   └── 32×1×1 Field{Center, Nothing, Nothing} reduced over dims = (2, 3) on RectilinearGrid on GPU\n",
       "        └── - at (Center, Center, Center)\n",
       "            ├── + at (Center, Center, Center)\n",
       "            │   ├── 32×32×32 Field{Center, Center, Center} on RectilinearGrid on GPU\n",
       "            │   └── 32×32×32 Field{Center, Center, Center} on RectilinearGrid on GPU\n",
       "            └── 32×1×1 Field{Center, Nothing, Nothing} reduced over dims = (2, 3) on RectilinearGrid on GPU"
      ]
     },
     "execution_count": 33,
     "metadata": {},
     "output_type": "execute_result"
    }
   ],
   "source": [
    "wp = ZPressureRedistribution(model, w_prime, p_prime)"
   ]
  },
  {
   "cell_type": "code",
   "execution_count": 34,
   "id": "e3f7e6c4-4e54-41ee-ad84-cf3aa6118d96",
   "metadata": {},
   "outputs": [
    {
     "data": {
      "text/plain": [
       "Callback of progress on IterationInterval(20)"
      ]
     },
     "execution_count": 34,
     "metadata": {},
     "output_type": "execute_result"
    }
   ],
   "source": [
    "using Printf\n",
    "\n",
    "function progress(simulation)\n",
    "    u, v, w = simulation.model.velocities\n",
    "\n",
    "    # Print a progress message\n",
    "    msg = @sprintf(\"i: %04d, t: %s, Δt: %s, umax = (%.1e, %.1e, %.1e) ms⁻¹, wall time: %s\\n\",\n",
    "                   iteration(simulation),\n",
    "                   prettytime(time(simulation)),\n",
    "                   prettytime(simulation.Δt),\n",
    "                   maximum(abs, u), maximum(abs, v), maximum(abs, w),\n",
    "                   prettytime(simulation.run_wall_time))\n",
    "\n",
    "    @info msg\n",
    "\n",
    "    return nothing\n",
    "end\n",
    "\n",
    "simulation.callbacks[:progress] = Callback(progress, IterationInterval(20))\n",
    "\n",
    "# I did not set up the output writer part"
   ]
  },
  {
   "cell_type": "code",
   "execution_count": 35,
   "id": "fabab7a7-619c-457c-8792-5d805040f398",
   "metadata": {},
   "outputs": [
    {
     "name": "stderr",
     "output_type": "stream",
     "text": [
      "┌ Info: Initializing simulation...\n",
      "└ @ Oceananigans.Simulations /home/zhengwei/.julia/packages/Oceananigans/WvJuZ/src/Simulations/run.jl:173\n",
      "┌ Info: i: 0000, t: 0 seconds, Δt: 49.500 seconds, umax = (1.3e-03, 4.4e-04, 8.1e-04) ms⁻¹, wall time: 0 seconds\n",
      "└ @ Main In[34]:14\n",
      "┌ Info:     ... simulation initialization complete (113.811 ms)\n",
      "└ @ Oceananigans.Simulations /home/zhengwei/.julia/packages/Oceananigans/WvJuZ/src/Simulations/run.jl:212\n",
      "┌ Info: Executing initial time step...\n",
      "└ @ Oceananigans.Simulations /home/zhengwei/.julia/packages/Oceananigans/WvJuZ/src/Simulations/run.jl:114\n",
      "┌ Info:     ... initial time step complete (18.180 seconds).\n",
      "└ @ Oceananigans.Simulations /home/zhengwei/.julia/packages/Oceananigans/WvJuZ/src/Simulations/run.jl:123\n",
      "┌ Info: i: 0020, t: 17.325 minutes, Δt: 59.895 seconds, umax = (2.6e-02, 1.1e-02, 1.9e-02) ms⁻¹, wall time: 18.501 seconds\n",
      "└ @ Main In[34]:14\n",
      "┌ Info: i: 0040, t: 37.307 minutes, Δt: 1 minute, umax = (3.8e-02, 1.1e-02, 1.8e-02) ms⁻¹, wall time: 18.827 seconds\n",
      "└ @ Main In[34]:14\n",
      "┌ Info: i: 0060, t: 57.307 minutes, Δt: 1 minute, umax = (4.9e-02, 1.5e-02, 1.6e-02) ms⁻¹, wall time: 18.969 seconds\n",
      "└ @ Main In[34]:14\n",
      "┌ Info: i: 0080, t: 1.288 hours, Δt: 1 minute, umax = (5.7e-02, 2.3e-02, 1.8e-02) ms⁻¹, wall time: 19.164 seconds\n",
      "└ @ Main In[34]:14\n",
      "┌ Info: i: 0100, t: 1.622 hours, Δt: 1 minute, umax = (6.2e-02, 2.5e-02, 2.6e-02) ms⁻¹, wall time: 19.468 seconds\n",
      "└ @ Main In[34]:14\n",
      "┌ Info: i: 0120, t: 1.955 hours, Δt: 1 minute, umax = (6.7e-02, 3.3e-02, 2.6e-02) ms⁻¹, wall time: 19.618 seconds\n",
      "└ @ Main In[34]:14\n",
      "┌ Info: i: 0140, t: 2.287 hours, Δt: 58.135 seconds, umax = (6.9e-02, 3.5e-02, 2.7e-02) ms⁻¹, wall time: 19.755 seconds\n",
      "└ @ Main In[34]:14\n",
      "┌ Info: i: 0160, t: 2.604 hours, Δt: 54.768 seconds, umax = (7.3e-02, 3.8e-02, 2.7e-02) ms⁻¹, wall time: 19.958 seconds\n",
      "└ @ Main In[34]:14\n",
      "┌ Info: i: 0180, t: 2.902 hours, Δt: 53.022 seconds, umax = (7.5e-02, 4.5e-02, 3.2e-02) ms⁻¹, wall time: 20.092 seconds\n",
      "└ @ Main In[34]:14\n",
      "┌ Info: i: 0200, t: 3.202 hours, Δt: 55.408 seconds, umax = (7.2e-02, 5.0e-02, 3.4e-02) ms⁻¹, wall time: 20.313 seconds\n",
      "└ @ Main In[34]:14\n",
      "┌ Info: i: 0220, t: 3.505 hours, Δt: 51.917 seconds, umax = (7.7e-02, 4.6e-02, 3.5e-02) ms⁻¹, wall time: 20.581 seconds\n",
      "└ @ Main In[34]:14\n",
      "┌ Info: i: 0240, t: 3.789 hours, Δt: 52.568 seconds, umax = (7.4e-02, 4.6e-02, 3.8e-02) ms⁻¹, wall time: 20.769 seconds\n",
      "└ @ Main In[34]:14\n",
      "┌ Info: Simulation is stopping after running for 20.873 seconds.\n",
      "└ @ Oceananigans.Simulations /home/zhengwei/.julia/packages/Oceananigans/WvJuZ/src/Simulations/simulation.jl:180\n",
      "┌ Info: Simulation time 4 hours equals or exceeds stop time 4 hours.\n",
      "└ @ Oceananigans.Simulations /home/zhengwei/.julia/packages/Oceananigans/WvJuZ/src/Simulations/simulation.jl:181\n"
     ]
    }
   ],
   "source": [
    "run!(simulation)"
   ]
  },
  {
   "cell_type": "code",
   "execution_count": null,
   "id": "ed244fee-7f68-4771-b10d-73824f0388c3",
   "metadata": {},
   "outputs": [],
   "source": []
  }
 ],
 "metadata": {
  "kernelspec": {
   "display_name": "Julia 1.8.0",
   "language": "julia",
   "name": "julia-1.8"
  },
  "language_info": {
   "file_extension": ".jl",
   "mimetype": "application/julia",
   "name": "julia",
   "version": "1.8.0"
  }
 },
 "nbformat": 4,
 "nbformat_minor": 5
}
